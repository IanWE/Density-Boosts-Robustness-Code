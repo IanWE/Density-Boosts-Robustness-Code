{
 "cells": [
  {
   "cell_type": "code",
   "execution_count": 1,
   "id": "57b7a9eb",
   "metadata": {},
   "outputs": [],
   "source": [
    "import numpy as np\n",
    "import csv\n",
    "from sklearn.model_selection import train_test_split\n",
    "import pandas as pd\n",
    "import os\n",
    "from core import constants, data_utils, model_utils\n",
    "from sklearn.ensemble import RandomForestClassifier\n",
    "from sklearn.metrics import classification_report, f1_score, accuracy_score\n",
    "import joblib\n",
    "import torch\n",
    "import random\n",
    "from core import utils"
   ]
  },
  {
   "cell_type": "code",
   "execution_count": 2,
   "id": "c582bdc6",
   "metadata": {},
   "outputs": [],
   "source": [
    "from mimicus.featureedit_p3 import FeatureEdit\n",
    "import random\n",
    "def mimicry(wolf_path, targets, classifier, \n",
    "            processor=None, verbose=False, trials=30):\n",
    "    '''\n",
    "    For every malicious file, mimic random benign files 'trials' times and \n",
    "    classify the result using 'classifier' to find the best mimicry \n",
    "    sample. \n",
    "    '''\n",
    "    wolf = FeatureEdit(wolf_path)\n",
    "    best_ben_path = ''\n",
    "    mimic_paths = set()\n",
    "    mimic_scores = []\n",
    "    best_mimic_score, best_mimic_path = 1.1, ''\n",
    "    wolf_feats = wolf.retrieve_feature_vector_numpy()\n",
    "    if processor == 'binarized':\n",
    "        wolf_feats[wolf_feats!=0] = 1       \n",
    "    elif processor:\n",
    "        wolf_feats = processor.process(wolf_feats)\n",
    "    if isinstance(classifier, RandomForestClassifier):\n",
    "        wolf_score = classifier.predict_proba(wolf_feats)[0, 1]\n",
    "    if hasattr(classifier, 'indicator'):\n",
    "        y_cent, x_density = model.inference_batch_wise(torch.Tensor(wolf_feats))\n",
    "        wolf_score = y_cent[0,1]#\n",
    "    else:\n",
    "        wolf_score = classifier.predict(wolf_feats).numpy()[0]\n",
    "    if verbose:\n",
    "        print('  Modifying {path} [{score}]:\\n'\n",
    "                         .format(path=wolf_path, score=wolf_score))\n",
    "    for rand_i in random.sample(range(len(targets)), trials):\n",
    "        target = targets[rand_i]\n",
    "        mimic = wolf.modify_file(target.copy())\n",
    "        mimic_feats = mimic['feats']\n",
    "        if processor == 'binarized':\n",
    "            mimic_feats[mimic_feats!=0] = 1       \n",
    "        elif processor:\n",
    "            mimic_feats = processor.process(mimic_feats)\n",
    "        if isinstance(classifier, RandomForestClassifier):\n",
    "            mimic_score = classifier.predict_proba(mimic_feats)[0, 1]\n",
    "        if hasattr(classifier, 'indicator'):\n",
    "            y_cent, x_density = model.inference_batch_wise(torch.Tensor(mimic_feats))\n",
    "            y_pred = np.argmax(y_cent, axis=-1)\n",
    "            mimic_score = y_cent[0,1]#\n",
    "            if mimic_score < 0.5:\n",
    "                flag = model.indicator(x_density, y_pred)[0]\n",
    "                if not flag:\n",
    "                    mimic_score = 1\n",
    "        else:\n",
    "            mimic_score = classifier.predict(mimic_feats).numpy()[0]      \n",
    "            #mimic_score = classifier.decision_function(mimic_feats)[0, 0]\n",
    "        if verbose:\n",
    "            print('    ..trying: [{score}]\\n'\n",
    "                             .format(score=mimic_score))\n",
    "        if mimic_score < best_mimic_score:\n",
    "            best_mimic_score = mimic_score\n",
    "            best_mimic_path = mimic['path']\n",
    "        mimic_paths.add(mimic['path'])\n",
    "        mimic_scores.append(mimic_score)\n",
    "        if best_mimic_score<0.5:\n",
    "            print('     attack succeed, stop.')\n",
    "            break\n",
    "    if verbose:\n",
    "        print('  BEST: [{score}]\\n'\n",
    "                         .format(score=best_mimic_score))\n",
    "        print('  WRITING best to: {}\\n\\n'.format(best_mimic_path))\n",
    "    # Remove all but the best mimic file\n",
    "    for mimic_path in mimic_paths:\n",
    "        if mimic_path != best_mimic_path:\n",
    "            os.remove(mimic_path)\n",
    "    return best_mimic_path, mimic_scores"
   ]
  },
  {
   "cell_type": "markdown",
   "id": "b1d8db34",
   "metadata": {},
   "source": [
    "### Saving modifiable features' indicies for training PAD"
   ]
  },
  {
   "cell_type": "code",
   "execution_count": 2,
   "id": "cac37fbe",
   "metadata": {},
   "outputs": [],
   "source": [
    "x_train,y_train,x_test,y_test= data_utils.load_pdf_dataset()\n",
    "\n",
    "api = []\n",
    "manipulation = []\n",
    "for i in feature_names:\n",
    "    if 'count_' in i:\n",
    "        manipulation.append(0)\n",
    "    else:\n",
    "        manipulation.append(1)\n",
    "    api.append(0)\n",
    "\n",
    "len(manipulation),sum(manipulation)\n",
    "joblib.dump([api,manipulation],'materials/pdf_features.pkl')"
   ]
  },
  {
   "cell_type": "markdown",
   "id": "44a45f9d",
   "metadata": {},
   "source": [
    "## RF-PDF"
   ]
  },
  {
   "cell_type": "code",
   "execution_count": null,
   "id": "7e21ffda",
   "metadata": {},
   "outputs": [],
   "source": [
    "if not os.path.exists(f'models/pdfs/rf_pdf.pkl'):\n",
    "    rf = model_utils.train_model('rf','pdf',x_train,y_train,x_test,y_test)\n",
    "    model_utils.save_model('rf',rf,'models/pdf/',f'rf_pdf')\n",
    "else:\n",
    "    rf = model_utils.load_model('rf','pdf','models/pdf/',f'rf_pdf',x_train.shape[1])\n",
    "r=rf.predict(x_test)>0.5\n",
    "print(classification_report(r,y_test,digits=5))"
   ]
  },
  {
   "cell_type": "code",
   "execution_count": null,
   "id": "6b04a1b0",
   "metadata": {},
   "outputs": [],
   "source": [
    "shap_values_df = model_utils.explain_model(\n",
    "        data_id='pdf',\n",
    "        model_id='rf',\n",
    "        model=rf,\n",
    "        x_exp=x_train,\n",
    "        x_back=x_train,\n",
    "        knowledge='rf_pdf',\n",
    "        n_samples=100,\n",
    "        load=True,\n",
    "        save=True\n",
    "    )"
   ]
  },
  {
   "cell_type": "markdown",
   "id": "2e9df148",
   "metadata": {},
   "source": [
    "### Load the paths to pdfs"
   ]
  },
  {
   "cell_type": "code",
   "execution_count": 7,
   "id": "9bb6c563",
   "metadata": {},
   "outputs": [],
   "source": [
    "x_train_filename = np.load(os.path.join(constants.SAVE_FILES_DIR, 'x_train_filename.npy'),allow_pickle=True)\n",
    "x_test_filename = np.load(os.path.join(constants.SAVE_FILES_DIR, 'x_test_filename.npy'),allow_pickle=True)"
   ]
  },
  {
   "cell_type": "code",
   "execution_count": null,
   "id": "41f5b40b",
   "metadata": {},
   "outputs": [],
   "source": [
    "# test mimicry\n",
    "wolf=FeatureEdit(x_train_filename[y_train==1][0])\n",
    "wolf_feats = wolf.retrieve_feature_vector_numpy()\n",
    "rf.predict_proba(wolf_feats)[0,1]\n",
    "mimic = wolf.modify_file(x_test[y_test==0][0])\n",
    "mimic_features = mimic['feats']\n",
    "mimic_score = rf.predict_proba(mimic_features)[0, 1]\n",
    "mimic_score"
   ]
  },
  {
   "cell_type": "markdown",
   "id": "98361c53",
   "metadata": {},
   "source": [
    "#### Mimicry attacks on RF-PDF"
   ]
  },
  {
   "cell_type": "code",
   "execution_count": null,
   "id": "b254e2c3",
   "metadata": {},
   "outputs": [],
   "source": [
    "r = rf.predict(x_test)\n",
    "paths = []\n",
    "scores = []\n",
    "for i in range(200):\n",
    "    mimic_path, mimic_scores = \\\n",
    "        mimicry(x_test_filename[(y_test==1)&(r==1)][i],x_test[(y_test==0)&(r==0)],rf,\\\n",
    "                processor=None, verbose=True, trials=30)\n",
    "    paths.append(mimic_path)\n",
    "    scores.append(mimic_scores)\n",
    "joblib.dump([paths,scores],'results_rf.pkl')"
   ]
  },
  {
   "cell_type": "code",
   "execution_count": 18,
   "id": "cca076cc",
   "metadata": {},
   "outputs": [
    {
     "name": "stdout",
     "output_type": "stream",
     "text": [
      "0.74 1.0 1.0\n"
     ]
    }
   ],
   "source": [
    "[paths,scores] = joblib.load('results_rf.pkl')\n",
    "s1 = 0\n",
    "s10 = 0\n",
    "s30 = 0\n",
    "for i in scores:\n",
    "    if len(i)==1:\n",
    "        s1 += 1\n",
    "    if len(i)<=10:\n",
    "        s10 += 1\n",
    "    if len(i)<30 or i[-1]<0.5:\n",
    "        s30 += 1\n",
    "print(s1/200,s10/200,s30/200)"
   ]
  },
  {
   "cell_type": "markdown",
   "id": "52a247fc",
   "metadata": {},
   "source": [
    "### NN-PDF"
   ]
  },
  {
   "cell_type": "code",
   "execution_count": null,
   "id": "3f073fc0",
   "metadata": {},
   "outputs": [],
   "source": [
    "if not os.path.exists(f'models/pdf/nn_pdf.pkl'):\n",
    "    x_train_,x_val,y_train_,y_val = train_test_split(x_train,y_train,test_size=0.05,random_state=3)\n",
    "    nn = model_utils.train_model('nn','pdf',x_train_,y_train_,x_val,y_val,100)\n",
    "    model_utils.save_model('nn',nn,'models/pdf/',f'nn_pdf')\n",
    "else:\n",
    "    nn = model_utils.load_model('nn','pdf','models/pdf/',f'nn_pdf',x_train.shape[1])\n",
    "r=nn.predict(x_test).numpy()>0.5\n",
    "print(classification_report(r,y_test,digits=5))"
   ]
  },
  {
   "cell_type": "markdown",
   "id": "fa57c1c7",
   "metadata": {},
   "source": [
    "#### Mimicry on NN-PDF"
   ]
  },
  {
   "cell_type": "code",
   "execution_count": null,
   "id": "4119ef8d",
   "metadata": {},
   "outputs": [],
   "source": [
    "r=nn.predict(x_test).numpy()>0.5\n",
    "print(classification_report(r,y_test,digits=5))\n",
    "paths = []\n",
    "scores = []\n",
    "for i in range(200):\n",
    "    mimic_path, mimic_scores = \\\n",
    "        mimicry(x_test_filename[(y_test==1)&(r==1)][i],x_test[(y_test==0)&(r==0)],nn,\\\n",
    "                processor=None, verbose=True, trials=30)\n",
    "    paths.append(mimic_path)\n",
    "    scores.append(mimic_scores)\n",
    "joblib.dump([paths,scores],'results_nn.pkl')"
   ]
  },
  {
   "cell_type": "code",
   "execution_count": 24,
   "id": "99d76ace",
   "metadata": {},
   "outputs": [
    {
     "name": "stdout",
     "output_type": "stream",
     "text": [
      "0.575 0.995 1.0\n"
     ]
    }
   ],
   "source": [
    "[paths,scores] = joblib.load('results_nn.pkl')\n",
    "s1 = 0\n",
    "s10 = 0\n",
    "s30 = 0\n",
    "for i in scores:\n",
    "    if len(i)==1:\n",
    "        s1 += 1\n",
    "    if len(i)<=10:\n",
    "        s10 += 1\n",
    "    if len(i)<30 or i[-1]<0.5:\n",
    "        s30 += 1\n",
    "print(s1/200,s10/200,s30/200)"
   ]
  },
  {
   "cell_type": "markdown",
   "id": "8d40addf",
   "metadata": {},
   "source": [
    "### NN-PDF-Bundle"
   ]
  },
  {
   "cell_type": "markdown",
   "id": "385f3695",
   "metadata": {},
   "source": [
    "#### Traing models"
   ]
  },
  {
   "cell_type": "code",
   "execution_count": null,
   "id": "ff64221e",
   "metadata": {},
   "outputs": [],
   "source": [
    "for i in [1,4,8,16]:\n",
    "    x_train_cb, y_train, x_test_cb, y_test, processor = data_utils.load_compressed_pdf('pdf',ratio=i)\n",
    "    if not os.path.exists(f'models/pdf/nn_pdf_bundle_{i}.pkl'):\n",
    "        x_train_,x_val,y_train_,y_val = train_test_split(x_train_cb,y_train,test_size=0.05,random_state=3)\n",
    "        nn_bundle = model_utils.train_model('nn','pdf',x_train_,y_train_,x_val,y_val,100)\n",
    "        model_utils.save_model('nn',nn_bundle,'models/pdf/',f'nn_pdf_bundle_{i}')\n",
    "    else:\n",
    "        nn_bundle = model_utils.load_model('nn','pdf','models/pdf/',f'nn_pdf_bundle_{i}',x_train_cb.shape[1])\n",
    "    model_utils.evaluate_model(nn_bundle,x_test_cb,y_test)\n",
    "    #r=nn_bundle.predict(x_test_cb)>0.5\n",
    "    #print(classification_report(r,y_test,digits=5))"
   ]
  },
  {
   "cell_type": "code",
   "execution_count": null,
   "id": "0b7e44d4",
   "metadata": {},
   "outputs": [],
   "source": [
    "x_train_cb, y_train, x_test_cb, y_test, processor = data_utils.load_compressed_pdf('pdf',ratio=16)\n",
    "if not os.path.exists(f'models/pdf/nn_pdf_bundle.pkl'):\n",
    "    x_train_,x_val,y_train_,y_val = train_test_split(x_train_cb,y_train,test_size=0.05,random_state=3)\n",
    "    nn_bundle = model_utils.train_model('nn','pdf',x_train_,y_train_,x_val,y_val,100)\n",
    "    model_utils.save_model('nn',nn_bundle,'models/pdf/',f'nn_pdf_bundle')\n",
    "else:\n",
    "    nn_bundle = model_utils.load_model('nn','pdf','models/pdf/',f'nn_pdf_bundle',x_train_cb.shape[1])\n",
    "model_utils.evaluate_model(nn_bundle,x_test_cb,y_test)"
   ]
  },
  {
   "cell_type": "markdown",
   "id": "27e01bb7",
   "metadata": {},
   "source": [
    "#### Mimicry on NN-PDF-Bundle"
   ]
  },
  {
   "cell_type": "code",
   "execution_count": null,
   "id": "9f0f159a",
   "metadata": {},
   "outputs": [],
   "source": [
    "r=nn_bundle.predict(x_test_cb).numpy()>0.5\n",
    "print(classification_report(r,y_test,digits=5))\n",
    "paths = []\n",
    "scores = []\n",
    "for i in range(200):\n",
    "    mimic_path, mimic_scores = \\\n",
    "        mimicry(x_test_filename[(y_test==1)&(r==1)][i],x_test[(y_test==0)&(r==0)],nn_bundle,\\\n",
    "                processor=processor, verbose=True, trials=30)\n",
    "    paths.append(mimic_path)\n",
    "    scores.append(mimic_scores)\n",
    "joblib.dump([paths,scores],'results_nn_bundle.pkl')"
   ]
  },
  {
   "cell_type": "code",
   "execution_count": 32,
   "id": "5a08e57f",
   "metadata": {},
   "outputs": [
    {
     "name": "stdout",
     "output_type": "stream",
     "text": [
      "0.28 0.865 0.98\n"
     ]
    }
   ],
   "source": [
    "[paths,scores] = joblib.load('results_nn_bundle.pkl')\n",
    "s1 = 0\n",
    "s10 = 0\n",
    "s30 = 0\n",
    "for i in scores:\n",
    "    if len(i)==1:\n",
    "        s1 += 1\n",
    "    if len(i)<=10:\n",
    "        s10 += 1\n",
    "    if len(i)<30 or i[-1]<0.5:\n",
    "        s30 += 1\n",
    "print(s1/200,s10/200,s30/200)"
   ]
  },
  {
   "cell_type": "markdown",
   "id": "9e7ffdf3",
   "metadata": {},
   "source": [
    "### NN-PDF-Density"
   ]
  },
  {
   "cell_type": "code",
   "execution_count": 38,
   "id": "00575846",
   "metadata": {},
   "outputs": [
    {
     "name": "stderr",
     "output_type": "stream",
     "text": [
      "2024/07/01 22:12:13 utils.py[line:306] INFO: training on cuda\n",
      "2024/07/01 22:12:13 utils.py[line:319] INFO: Density-based robust training: 0.0\n",
      "  0%|          | 0/100 [00:00<?, ?it/s]2024/07/01 22:12:13 utils.py[line:413] INFO: epoch 1, loss 0.0878, test loss 0.0915, best test loss 0.0915, train acc 0.97210, test auc 0.99611, best auc 0.99611, f1 0.98827, best f1 0.98827, time 0.2 sec\n",
      "  1%|          | 1/100 [00:00<00:17,  5.68it/s]"
     ]
    },
    {
     "name": "stdout",
     "output_type": "stream",
     "text": [
      "Available indicies: 95.0\n"
     ]
    },
    {
     "name": "stderr",
     "output_type": "stream",
     "text": [
      "2024/07/01 22:12:13 utils.py[line:413] INFO: epoch 2, loss 0.0180, test loss 0.0205, best test loss 0.0205, train acc 0.99493, test auc 0.99983, best auc 0.99983, f1 0.99266, best f1 0.99266, time 0.1 sec\n",
      "  2%|▏         | 2/100 [00:00<00:15,  6.24it/s]2024/07/01 22:12:13 utils.py[line:413] INFO: epoch 3, loss 0.0092, test loss 0.0118, best test loss 0.0118, train acc 0.99738, test auc 0.99999, best auc 0.99999, f1 0.99266, best f1 0.99266, time 0.1 sec\n",
      "  3%|▎         | 3/100 [00:00<00:15,  6.42it/s]2024/07/01 22:12:13 utils.py[line:413] INFO: epoch 4, loss 0.0101, test loss 0.0109, best test loss 0.0109, train acc 0.99694, test auc 0.99998, best auc 0.99998, f1 0.99413, best f1 0.99413, time 0.1 sec\n",
      "  4%|▍         | 4/100 [00:00<00:14,  6.61it/s]2024/07/01 22:12:13 utils.py[line:413] INFO: epoch 5, loss 0.0086, test loss 0.0051, best test loss 0.0051, train acc 0.99773, test auc 0.99999, best auc 0.99999, f1 0.99708, best f1 0.99708, time 0.1 sec\n",
      "  5%|▌         | 5/100 [00:00<00:14,  6.68it/s]2024/07/01 22:12:14 utils.py[line:413] INFO: epoch 6, loss 0.0069, test loss 0.0066, best test loss 0.0066, train acc 0.99799, test auc 1.00000, best auc 1.00000, f1 0.99708, best f1 0.99708, time 0.1 sec\n",
      "  6%|▌         | 6/100 [00:00<00:13,  6.72it/s]2024/07/01 22:12:14 utils.py[line:413] INFO: epoch 7, loss 0.0082, test loss 0.0050, best test loss 0.0050, train acc 0.99738, test auc 1.00000, best auc 1.00000, f1 0.99708, best f1 0.99708, time 0.1 sec\n",
      "  7%|▋         | 7/100 [00:01<00:13,  6.75it/s]2024/07/01 22:12:14 utils.py[line:413] INFO: epoch 8, loss 0.0059, test loss 0.0054, best test loss 0.0054, train acc 0.99795, test auc 1.00000, best auc 1.00000, f1 0.99708, best f1 0.99708, time 0.1 sec\n",
      "  8%|▊         | 8/100 [00:01<00:13,  6.74it/s]2024/07/01 22:12:14 utils.py[line:413] INFO: epoch 9, loss 0.0044, test loss 0.0015, best test loss 0.0015, train acc 0.99852, test auc 1.00000, best auc 1.00000, f1 0.99854, best f1 0.99854, time 0.1 sec\n",
      "  9%|▉         | 9/100 [00:01<00:13,  6.72it/s]2024/07/01 22:12:14 utils.py[line:413] INFO: epoch 10, loss 0.0054, test loss 0.0068, best test loss 0.0015, train acc 0.99838, test auc 1.00000, best auc 1.00000, f1 0.99708, best f1 0.99854, time 0.1 sec\n",
      " 10%|█         | 10/100 [00:01<00:13,  6.75it/s]2024/07/01 22:12:14 utils.py[line:413] INFO: epoch 11, loss 0.0066, test loss 0.0158, best test loss 0.0015, train acc 0.99786, test auc 0.99990, best auc 1.00000, f1 0.99561, best f1 0.99854, time 0.1 sec\n",
      " 11%|█         | 11/100 [00:01<00:13,  6.69it/s]2024/07/01 22:12:14 utils.py[line:413] INFO: epoch 12, loss 0.0055, test loss 0.0125, best test loss 0.0015, train acc 0.99812, test auc 0.99993, best auc 1.00000, f1 0.99562, best f1 0.99854, time 0.1 sec\n",
      " 12%|█▏        | 12/100 [00:01<00:12,  6.82it/s]2024/07/01 22:12:15 utils.py[line:413] INFO: epoch 13, loss 0.0058, test loss 0.0098, best test loss 0.0015, train acc 0.99812, test auc 0.99996, best auc 1.00000, f1 0.99708, best f1 0.99854, time 0.1 sec\n",
      " 13%|█▎        | 13/100 [00:01<00:12,  6.95it/s]2024/07/01 22:12:15 utils.py[line:413] INFO: epoch 14, loss 0.0020, test loss 0.0120, best test loss 0.0015, train acc 0.99926, test auc 0.99996, best auc 1.00000, f1 0.99708, best f1 0.99854, time 0.1 sec\n",
      " 14%|█▍        | 14/100 [00:02<00:12,  7.04it/s]2024/07/01 22:12:15 utils.py[line:413] INFO: epoch 15, loss 0.0046, test loss 0.0106, best test loss 0.0015, train acc 0.99856, test auc 0.99994, best auc 1.00000, f1 0.99708, best f1 0.99854, time 0.1 sec\n",
      " 15%|█▌        | 15/100 [00:02<00:11,  7.13it/s]2024/07/01 22:12:15 utils.py[line:413] INFO: epoch 16, loss 0.0063, test loss 0.0149, best test loss 0.0015, train acc 0.99790, test auc 0.99990, best auc 1.00000, f1 0.99413, best f1 0.99854, time 0.1 sec\n",
      " 16%|█▌        | 16/100 [00:02<00:11,  7.15it/s]2024/07/01 22:12:15 utils.py[line:413] INFO: epoch 17, loss 0.0043, test loss 0.0080, best test loss 0.0015, train acc 0.99852, test auc 0.99997, best auc 1.00000, f1 0.99708, best f1 0.99854, time 0.1 sec\n",
      " 17%|█▋        | 17/100 [00:02<00:11,  7.15it/s]2024/07/01 22:12:15 utils.py[line:413] INFO: epoch 18, loss 0.0035, test loss 0.0138, best test loss 0.0015, train acc 0.99908, test auc 0.99985, best auc 1.00000, f1 0.99708, best f1 0.99854, time 0.1 sec\n",
      " 18%|█▊        | 18/100 [00:02<00:11,  7.18it/s]2024/07/01 22:12:15 utils.py[line:413] INFO: epoch 19, loss 0.0039, test loss 0.0176, best test loss 0.0015, train acc 0.99878, test auc 0.99956, best auc 1.00000, f1 0.99561, best f1 0.99854, time 0.1 sec\n",
      " 19%|█▉        | 19/100 [00:02<00:11,  7.16it/s]2024/07/01 22:12:16 utils.py[line:413] INFO: epoch 20, loss 0.0031, test loss 0.0104, best test loss 0.0015, train acc 0.99904, test auc 0.99996, best auc 1.00000, f1 0.99562, best f1 0.99854, time 0.1 sec\n",
      " 20%|██        | 20/100 [00:02<00:11,  7.14it/s]2024/07/01 22:12:16 utils.py[line:413] INFO: epoch 21, loss 0.0024, test loss 0.0116, best test loss 0.0015, train acc 0.99930, test auc 0.99990, best auc 1.00000, f1 0.99708, best f1 0.99854, time 0.1 sec\n",
      " 21%|██        | 21/100 [00:03<00:11,  7.10it/s]2024/07/01 22:12:16 utils.py[line:413] INFO: epoch 22, loss 0.0016, test loss 0.0088, best test loss 0.0015, train acc 0.99952, test auc 0.99998, best auc 1.00000, f1 0.99708, best f1 0.99854, time 0.1 sec\n",
      " 22%|██▏       | 22/100 [00:03<00:10,  7.13it/s]2024/07/01 22:12:16 utils.py[line:413] INFO: epoch 23, loss 0.0030, test loss 0.0158, best test loss 0.0015, train acc 0.99886, test auc 0.99985, best auc 1.00000, f1 0.99708, best f1 0.99854, time 0.1 sec\n",
      " 23%|██▎       | 23/100 [00:03<00:10,  7.16it/s]2024/07/01 22:12:16 utils.py[line:413] INFO: epoch 24, loss 0.0024, test loss 0.0050, best test loss 0.0015, train acc 0.99930, test auc 0.99998, best auc 1.00000, f1 0.99562, best f1 0.99854, time 0.1 sec\n",
      " 24%|██▍       | 24/100 [00:03<00:10,  7.24it/s]2024/07/01 22:12:16 utils.py[line:413] INFO: epoch 25, loss 0.0037, test loss 0.0105, best test loss 0.0015, train acc 0.99882, test auc 0.99991, best auc 1.00000, f1 0.99708, best f1 0.99854, time 0.1 sec\n",
      " 25%|██▌       | 25/100 [00:03<00:10,  7.17it/s]2024/07/01 22:12:16 utils.py[line:413] INFO: epoch 26, loss 0.0032, test loss 0.0140, best test loss 0.0015, train acc 0.99917, test auc 0.99989, best auc 1.00000, f1 0.99708, best f1 0.99854, time 0.1 sec\n",
      " 26%|██▌       | 26/100 [00:03<00:10,  7.23it/s]2024/07/01 22:12:16 utils.py[line:413] INFO: epoch 27, loss 0.0079, test loss 0.0055, best test loss 0.0015, train acc 0.99803, test auc 0.99999, best auc 1.00000, f1 0.99561, best f1 0.99854, time 0.1 sec\n",
      " 27%|██▋       | 27/100 [00:03<00:10,  7.25it/s]2024/07/01 22:12:17 utils.py[line:413] INFO: epoch 28, loss 0.0022, test loss 0.0081, best test loss 0.0015, train acc 0.99939, test auc 0.99994, best auc 1.00000, f1 0.99708, best f1 0.99854, time 0.1 sec\n",
      " 28%|██▊       | 28/100 [00:04<00:09,  7.29it/s]2024/07/01 22:12:17 utils.py[line:413] INFO: epoch 29, loss 0.0023, test loss 0.0151, best test loss 0.0015, train acc 0.99961, test auc 0.99993, best auc 1.00000, f1 0.99708, best f1 0.99854, time 0.1 sec\n",
      " 29%|██▉       | 29/100 [00:04<00:09,  7.13it/s]2024/07/01 22:12:17 utils.py[line:413] INFO: epoch 30, loss 0.0024, test loss 0.0184, best test loss 0.0015, train acc 0.99926, test auc 0.99975, best auc 1.00000, f1 0.99708, best f1 0.99854, time 0.1 sec\n",
      " 30%|███       | 30/100 [00:04<00:09,  7.12it/s]2024/07/01 22:12:17 utils.py[line:413] INFO: epoch 31, loss 0.0017, test loss 0.0138, best test loss 0.0015, train acc 0.99934, test auc 0.99983, best auc 1.00000, f1 0.99708, best f1 0.99854, time 0.1 sec\n",
      " 31%|███       | 31/100 [00:04<00:09,  7.20it/s]2024/07/01 22:12:17 utils.py[line:413] INFO: epoch 32, loss 0.0016, test loss 0.0102, best test loss 0.0015, train acc 0.99930, test auc 0.99999, best auc 1.00000, f1 0.99708, best f1 0.99854, time 0.1 sec\n",
      " 32%|███▏      | 32/100 [00:04<00:09,  7.20it/s]2024/07/01 22:12:17 utils.py[line:413] INFO: epoch 33, loss 0.0020, test loss 0.0063, best test loss 0.0015, train acc 0.99948, test auc 0.99999, best auc 1.00000, f1 0.99708, best f1 0.99854, time 0.1 sec\n",
      " 33%|███▎      | 33/100 [00:04<00:09,  7.18it/s]2024/07/01 22:12:17 utils.py[line:413] INFO: epoch 34, loss 0.0051, test loss 0.0079, best test loss 0.0015, train acc 0.99856, test auc 0.99998, best auc 1.00000, f1 0.99708, best f1 0.99854, time 0.1 sec\n"
     ]
    },
    {
     "name": "stderr",
     "output_type": "stream",
     "text": [
      " 34%|███▍      | 34/100 [00:04<00:09,  7.20it/s]2024/07/01 22:12:18 utils.py[line:413] INFO: epoch 35, loss 0.0019, test loss 0.0150, best test loss 0.0015, train acc 0.99943, test auc 0.99991, best auc 1.00000, f1 0.99561, best f1 0.99854, time 0.1 sec\n",
      " 35%|███▌      | 35/100 [00:04<00:08,  7.24it/s]2024/07/01 22:12:18 utils.py[line:413] INFO: epoch 36, loss 0.0049, test loss 0.0133, best test loss 0.0015, train acc 0.99873, test auc 0.99996, best auc 1.00000, f1 0.99708, best f1 0.99854, time 0.1 sec\n",
      " 36%|███▌      | 36/100 [00:05<00:08,  7.26it/s]2024/07/01 22:12:18 utils.py[line:413] INFO: epoch 37, loss 0.0021, test loss 0.0175, best test loss 0.0015, train acc 0.99917, test auc 0.99947, best auc 1.00000, f1 0.99561, best f1 0.99854, time 0.1 sec\n",
      " 37%|███▋      | 37/100 [00:05<00:08,  7.27it/s]2024/07/01 22:12:18 utils.py[line:413] INFO: epoch 38, loss 0.0032, test loss 0.0157, best test loss 0.0015, train acc 0.99908, test auc 0.99982, best auc 1.00000, f1 0.99708, best f1 0.99854, time 0.1 sec\n",
      " 38%|███▊      | 38/100 [00:05<00:08,  7.19it/s]2024/07/01 22:12:18 utils.py[line:413] INFO: epoch 39, loss 0.0012, test loss 0.0166, best test loss 0.0015, train acc 0.99961, test auc 0.99991, best auc 1.00000, f1 0.99708, best f1 0.99854, time 0.1 sec\n",
      " 39%|███▉      | 39/100 [00:05<00:08,  7.15it/s]2024/07/01 22:12:18 utils.py[line:413] INFO: epoch 40, loss 0.0011, test loss 0.0199, best test loss 0.0015, train acc 0.99961, test auc 0.99969, best auc 1.00000, f1 0.99708, best f1 0.99854, time 0.1 sec\n",
      " 40%|████      | 40/100 [00:05<00:08,  7.24it/s]2024/07/01 22:12:18 utils.py[line:413] INFO: epoch 41, loss 0.0014, test loss 0.0176, best test loss 0.0015, train acc 0.99948, test auc 0.99992, best auc 1.00000, f1 0.99708, best f1 0.99854, time 0.1 sec\n",
      " 41%|████      | 41/100 [00:05<00:08,  7.26it/s]2024/07/01 22:12:19 utils.py[line:413] INFO: epoch 42, loss 0.0006, test loss 0.0157, best test loss 0.0015, train acc 0.99969, test auc 0.99990, best auc 1.00000, f1 0.99708, best f1 0.99854, time 0.1 sec\n",
      " 42%|████▏     | 42/100 [00:05<00:07,  7.30it/s]2024/07/01 22:12:19 utils.py[line:413] INFO: epoch 43, loss 0.0014, test loss 0.0168, best test loss 0.0015, train acc 0.99961, test auc 0.99985, best auc 1.00000, f1 0.99708, best f1 0.99854, time 0.1 sec\n",
      " 43%|████▎     | 43/100 [00:06<00:07,  7.29it/s]2024/07/01 22:12:19 utils.py[line:413] INFO: epoch 44, loss 0.0019, test loss 0.0134, best test loss 0.0015, train acc 0.99934, test auc 0.99996, best auc 1.00000, f1 0.99708, best f1 0.99854, time 0.1 sec\n",
      " 44%|████▍     | 44/100 [00:06<00:07,  7.37it/s]2024/07/01 22:12:19 utils.py[line:413] INFO: epoch 45, loss 0.0029, test loss 0.0101, best test loss 0.0015, train acc 0.99934, test auc 0.99993, best auc 1.00000, f1 0.99708, best f1 0.99854, time 0.1 sec\n",
      " 45%|████▌     | 45/100 [00:06<00:07,  7.32it/s]2024/07/01 22:12:19 utils.py[line:413] INFO: epoch 46, loss 0.0014, test loss 0.0158, best test loss 0.0015, train acc 0.99948, test auc 0.99988, best auc 1.00000, f1 0.99561, best f1 0.99854, time 0.1 sec\n",
      " 46%|████▌     | 46/100 [00:06<00:07,  7.28it/s]2024/07/01 22:12:19 utils.py[line:413] INFO: epoch 47, loss 0.0066, test loss 0.0091, best test loss 0.0015, train acc 0.99838, test auc 0.99997, best auc 1.00000, f1 0.99708, best f1 0.99854, time 0.1 sec\n",
      " 47%|████▋     | 47/100 [00:06<00:07,  7.16it/s]2024/07/01 22:12:19 utils.py[line:413] INFO: epoch 48, loss 0.0018, test loss 0.0149, best test loss 0.0015, train acc 0.99939, test auc 0.99988, best auc 1.00000, f1 0.99708, best f1 0.99854, time 0.1 sec\n",
      " 48%|████▊     | 48/100 [00:06<00:07,  7.15it/s]2024/07/01 22:12:20 utils.py[line:413] INFO: epoch 49, loss 0.0031, test loss 0.0143, best test loss 0.0015, train acc 0.99886, test auc 0.99983, best auc 1.00000, f1 0.99561, best f1 0.99854, time 0.1 sec\n",
      " 49%|████▉     | 49/100 [00:06<00:07,  7.16it/s]2024/07/01 22:12:20 utils.py[line:413] INFO: epoch 50, loss 0.0019, test loss 0.0096, best test loss 0.0015, train acc 0.99956, test auc 0.99997, best auc 1.00000, f1 0.99708, best f1 0.99854, time 0.1 sec\n",
      " 50%|█████     | 50/100 [00:07<00:06,  7.26it/s]2024/07/01 22:12:20 utils.py[line:413] INFO: epoch 51, loss 0.0014, test loss 0.0163, best test loss 0.0015, train acc 0.99943, test auc 0.99993, best auc 1.00000, f1 0.99708, best f1 0.99854, time 0.1 sec\n",
      " 51%|█████     | 51/100 [00:07<00:06,  7.19it/s]2024/07/01 22:12:20 utils.py[line:413] INFO: epoch 52, loss 0.0031, test loss 0.0281, best test loss 0.0015, train acc 0.99904, test auc 0.99980, best auc 1.00000, f1 0.99561, best f1 0.99854, time 0.2 sec\n",
      " 52%|█████▏    | 52/100 [00:07<00:07,  6.80it/s]2024/07/01 22:12:20 utils.py[line:413] INFO: epoch 53, loss 0.0072, test loss 0.0121, best test loss 0.0015, train acc 0.99821, test auc 0.99998, best auc 1.00000, f1 0.99561, best f1 0.99854, time 0.1 sec\n",
      " 53%|█████▎    | 53/100 [00:07<00:06,  6.85it/s]2024/07/01 22:12:20 utils.py[line:413] INFO: epoch 54, loss 0.0035, test loss 0.0056, best test loss 0.0015, train acc 0.99891, test auc 0.99998, best auc 1.00000, f1 0.99708, best f1 0.99854, time 0.1 sec\n",
      " 54%|█████▍    | 54/100 [00:07<00:06,  6.96it/s]2024/07/01 22:12:20 utils.py[line:413] INFO: epoch 55, loss 0.0025, test loss 0.0160, best test loss 0.0015, train acc 0.99908, test auc 0.99992, best auc 1.00000, f1 0.99561, best f1 0.99854, time 0.1 sec\n",
      " 55%|█████▌    | 55/100 [00:07<00:06,  7.01it/s]2024/07/01 22:12:21 utils.py[line:413] INFO: epoch 56, loss 0.0029, test loss 0.0167, best test loss 0.0015, train acc 0.99904, test auc 0.99955, best auc 1.00000, f1 0.99561, best f1 0.99854, time 0.1 sec\n",
      " 56%|█████▌    | 56/100 [00:07<00:06,  7.07it/s]2024/07/01 22:12:21 utils.py[line:413] INFO: epoch 57, loss 0.0039, test loss 0.0101, best test loss 0.0015, train acc 0.99895, test auc 0.99998, best auc 1.00000, f1 0.99708, best f1 0.99854, time 0.1 sec\n",
      " 57%|█████▋    | 57/100 [00:08<00:06,  7.12it/s]2024/07/01 22:12:21 utils.py[line:413] INFO: epoch 58, loss 0.0021, test loss 0.0112, best test loss 0.0015, train acc 0.99939, test auc 0.99997, best auc 1.00000, f1 0.99561, best f1 0.99854, time 0.1 sec\n",
      " 58%|█████▊    | 58/100 [00:08<00:05,  7.15it/s]2024/07/01 22:12:21 utils.py[line:413] INFO: epoch 59, loss 0.0009, test loss 0.0123, best test loss 0.0015, train acc 0.99974, test auc 0.99997, best auc 1.00000, f1 0.99708, best f1 0.99854, time 0.1 sec\n",
      " 59%|█████▉    | 59/100 [00:08<00:05,  7.18it/s]2024/07/01 22:12:21 utils.py[line:413] INFO: epoch 60, loss 0.0013, test loss 0.0138, best test loss 0.0015, train acc 0.99956, test auc 0.99996, best auc 1.00000, f1 0.99708, best f1 0.99854, time 0.1 sec\n",
      " 60%|██████    | 60/100 [00:08<00:05,  7.20it/s]2024/07/01 22:12:21 utils.py[line:413] INFO: epoch 61, loss 0.0040, test loss 0.0099, best test loss 0.0015, train acc 0.99873, test auc 0.99996, best auc 1.00000, f1 0.99708, best f1 0.99854, time 0.1 sec\n",
      " 61%|██████    | 61/100 [00:08<00:05,  7.19it/s]2024/07/01 22:12:21 utils.py[line:413] INFO: epoch 62, loss 0.0025, test loss 0.0140, best test loss 0.0015, train acc 0.99913, test auc 0.99992, best auc 1.00000, f1 0.99708, best f1 0.99854, time 0.1 sec\n",
      " 62%|██████▏   | 62/100 [00:08<00:05,  7.24it/s]2024/07/01 22:12:22 utils.py[line:413] INFO: epoch 63, loss 0.0012, test loss 0.0131, best test loss 0.0015, train acc 0.99961, test auc 0.99996, best auc 1.00000, f1 0.99708, best f1 0.99854, time 0.1 sec\n",
      " 63%|██████▎   | 63/100 [00:08<00:05,  7.15it/s]2024/07/01 22:12:22 utils.py[line:413] INFO: epoch 64, loss 0.0017, test loss 0.0133, best test loss 0.0015, train acc 0.99956, test auc 0.99996, best auc 1.00000, f1 0.99708, best f1 0.99854, time 0.1 sec\n",
      " 64%|██████▍   | 64/100 [00:09<00:05,  7.20it/s]2024/07/01 22:12:22 utils.py[line:413] INFO: epoch 65, loss 0.0034, test loss 0.0167, best test loss 0.0015, train acc 0.99904, test auc 0.99971, best auc 1.00000, f1 0.99708, best f1 0.99854, time 0.1 sec\n",
      " 65%|██████▌   | 65/100 [00:09<00:04,  7.18it/s]2024/07/01 22:12:22 utils.py[line:413] INFO: epoch 66, loss 0.0021, test loss 0.0103, best test loss 0.0015, train acc 0.99939, test auc 0.99996, best auc 1.00000, f1 0.99708, best f1 0.99854, time 0.1 sec\n",
      " 66%|██████▌   | 66/100 [00:09<00:04,  7.25it/s]2024/07/01 22:12:22 utils.py[line:413] INFO: epoch 67, loss 0.0019, test loss 0.0045, best test loss 0.0045, train acc 0.99921, test auc 0.99998, best auc 0.99998, f1 0.99854, best f1 0.99854, time 0.1 sec\n"
     ]
    },
    {
     "name": "stderr",
     "output_type": "stream",
     "text": [
      " 67%|██████▋   | 67/100 [00:09<00:04,  7.07it/s]2024/07/01 22:12:22 utils.py[line:413] INFO: epoch 68, loss 0.0014, test loss 0.0121, best test loss 0.0045, train acc 0.99956, test auc 0.99997, best auc 0.99998, f1 0.99708, best f1 0.99854, time 0.1 sec\n",
      " 68%|██████▊   | 68/100 [00:09<00:04,  7.11it/s]2024/07/01 22:12:22 utils.py[line:413] INFO: epoch 69, loss 0.0027, test loss 0.0142, best test loss 0.0045, train acc 0.99917, test auc 0.99990, best auc 0.99998, f1 0.99708, best f1 0.99854, time 0.1 sec\n",
      " 69%|██████▉   | 69/100 [00:09<00:04,  7.10it/s]2024/07/01 22:12:22 utils.py[line:413] INFO: epoch 70, loss 0.0013, test loss 0.0081, best test loss 0.0045, train acc 0.99961, test auc 0.99997, best auc 0.99998, f1 0.99708, best f1 0.99854, time 0.1 sec\n",
      " 70%|███████   | 70/100 [00:09<00:04,  7.08it/s]2024/07/01 22:12:23 utils.py[line:413] INFO: epoch 71, loss 0.0009, test loss 0.0100, best test loss 0.0045, train acc 0.99965, test auc 0.99998, best auc 0.99998, f1 0.99708, best f1 0.99854, time 0.1 sec\n",
      " 71%|███████   | 71/100 [00:10<00:04,  7.19it/s]2024/07/01 22:12:23 utils.py[line:413] INFO: epoch 72, loss 0.0014, test loss 0.0067, best test loss 0.0045, train acc 0.99952, test auc 0.99998, best auc 0.99998, f1 0.99708, best f1 0.99854, time 0.1 sec\n",
      " 72%|███████▏  | 72/100 [00:10<00:03,  7.09it/s]2024/07/01 22:12:23 utils.py[line:413] INFO: epoch 73, loss 0.0015, test loss 0.0074, best test loss 0.0045, train acc 0.99965, test auc 0.99998, best auc 0.99998, f1 0.99708, best f1 0.99854, time 0.1 sec\n",
      " 73%|███████▎  | 73/100 [00:10<00:03,  7.04it/s]2024/07/01 22:12:23 utils.py[line:413] INFO: epoch 74, loss 0.0012, test loss 0.0051, best test loss 0.0045, train acc 0.99961, test auc 0.99998, best auc 0.99998, f1 0.99708, best f1 0.99854, time 0.1 sec\n",
      " 74%|███████▍  | 74/100 [00:10<00:03,  7.05it/s]2024/07/01 22:12:23 utils.py[line:413] INFO: epoch 75, loss 0.0017, test loss 0.0114, best test loss 0.0045, train acc 0.99943, test auc 0.99998, best auc 0.99998, f1 0.99708, best f1 0.99854, time 0.1 sec\n",
      " 75%|███████▌  | 75/100 [00:10<00:03,  7.13it/s]2024/07/01 22:12:23 utils.py[line:413] INFO: epoch 76, loss 0.0040, test loss 0.0113, best test loss 0.0045, train acc 0.99869, test auc 0.99998, best auc 0.99998, f1 0.99708, best f1 0.99854, time 0.1 sec\n",
      " 76%|███████▌  | 76/100 [00:10<00:03,  7.09it/s]2024/07/01 22:12:23 utils.py[line:413] INFO: epoch 77, loss 0.0017, test loss 0.0081, best test loss 0.0045, train acc 0.99930, test auc 0.99998, best auc 0.99998, f1 0.99562, best f1 0.99854, time 0.1 sec\n",
      " 77%|███████▋  | 77/100 [00:10<00:03,  7.12it/s]2024/07/01 22:12:24 utils.py[line:413] INFO: epoch 78, loss 0.0009, test loss 0.0158, best test loss 0.0045, train acc 0.99956, test auc 0.99996, best auc 0.99998, f1 0.99708, best f1 0.99854, time 0.1 sec\n",
      " 78%|███████▊  | 78/100 [00:11<00:03,  7.23it/s]2024/07/01 22:12:24 utils.py[line:413] INFO: epoch 79, loss 0.0012, test loss 0.0144, best test loss 0.0045, train acc 0.99961, test auc 0.99985, best auc 0.99998, f1 0.99708, best f1 0.99854, time 0.1 sec\n",
      " 79%|███████▉  | 79/100 [00:11<00:02,  7.22it/s]2024/07/01 22:12:24 utils.py[line:413] INFO: epoch 80, loss 0.0019, test loss 0.0095, best test loss 0.0045, train acc 0.99943, test auc 0.99994, best auc 0.99998, f1 0.99708, best f1 0.99854, time 0.1 sec\n",
      " 80%|████████  | 80/100 [00:11<00:02,  7.14it/s]2024/07/01 22:12:24 utils.py[line:413] INFO: epoch 81, loss 0.0009, test loss 0.0131, best test loss 0.0045, train acc 0.99965, test auc 0.99992, best auc 0.99998, f1 0.99708, best f1 0.99854, time 0.1 sec\n",
      " 81%|████████  | 81/100 [00:11<00:02,  7.17it/s]2024/07/01 22:12:24 utils.py[line:413] INFO: epoch 82, loss 0.0017, test loss 0.0147, best test loss 0.0045, train acc 0.99956, test auc 0.99991, best auc 0.99998, f1 0.99708, best f1 0.99854, time 0.1 sec\n",
      " 82%|████████▏ | 82/100 [00:11<00:02,  7.19it/s]2024/07/01 22:12:24 utils.py[line:413] INFO: epoch 83, loss 0.0008, test loss 0.0090, best test loss 0.0045, train acc 0.99978, test auc 0.99998, best auc 0.99998, f1 0.99708, best f1 0.99854, time 0.1 sec\n",
      " 83%|████████▎ | 83/100 [00:11<00:02,  7.24it/s]2024/07/01 22:12:24 utils.py[line:413] INFO: epoch 84, loss 0.0008, test loss 0.0136, best test loss 0.0136, train acc 0.99965, test auc 0.99951, best auc 0.99951, f1 0.99854, best f1 0.99854, time 0.1 sec\n",
      " 84%|████████▍ | 84/100 [00:11<00:02,  7.09it/s]2024/07/01 22:12:25 utils.py[line:413] INFO: epoch 85, loss 0.0007, test loss 0.0186, best test loss 0.0136, train acc 0.99965, test auc 0.99992, best auc 0.99951, f1 0.99708, best f1 0.99854, time 0.2 sec\n",
      " 85%|████████▌ | 85/100 [00:12<00:02,  6.78it/s]2024/07/01 22:12:25 utils.py[line:413] INFO: epoch 86, loss 0.0011, test loss 0.0125, best test loss 0.0136, train acc 0.99961, test auc 0.99997, best auc 0.99951, f1 0.99708, best f1 0.99854, time 0.2 sec\n",
      " 86%|████████▌ | 86/100 [00:12<00:02,  6.71it/s]2024/07/01 22:12:25 utils.py[line:413] INFO: epoch 87, loss 0.0007, test loss 0.0100, best test loss 0.0136, train acc 0.99974, test auc 0.99998, best auc 0.99951, f1 0.99708, best f1 0.99854, time 0.1 sec\n",
      " 87%|████████▋ | 87/100 [00:12<00:01,  6.90it/s]2024/07/01 22:12:25 utils.py[line:413] INFO: epoch 88, loss 0.0012, test loss 0.0115, best test loss 0.0136, train acc 0.99969, test auc 0.99996, best auc 0.99951, f1 0.99708, best f1 0.99854, time 0.1 sec\n",
      " 88%|████████▊ | 88/100 [00:12<00:01,  7.05it/s]2024/07/01 22:12:25 utils.py[line:413] INFO: epoch 89, loss 0.0024, test loss 0.0107, best test loss 0.0136, train acc 0.99921, test auc 0.99989, best auc 0.99951, f1 0.99708, best f1 0.99854, time 0.1 sec\n",
      " 89%|████████▉ | 89/100 [00:12<00:01,  7.08it/s]2024/07/01 22:12:25 utils.py[line:413] INFO: epoch 90, loss 0.0017, test loss 0.0098, best test loss 0.0098, train acc 0.99948, test auc 0.99990, best auc 0.99990, f1 0.99854, best f1 0.99854, time 0.2 sec\n",
      " 90%|█████████ | 90/100 [00:12<00:01,  6.91it/s]2024/07/01 22:12:25 utils.py[line:413] INFO: epoch 91, loss 0.0010, test loss 0.0214, best test loss 0.0098, train acc 0.99974, test auc 0.99946, best auc 0.99990, f1 0.99708, best f1 0.99854, time 0.1 sec\n",
      " 91%|█████████ | 91/100 [00:12<00:01,  6.96it/s]2024/07/01 22:12:26 utils.py[line:413] INFO: epoch 92, loss 0.0009, test loss 0.0130, best test loss 0.0098, train acc 0.99969, test auc 0.99993, best auc 0.99990, f1 0.99708, best f1 0.99854, time 0.1 sec\n",
      " 92%|█████████▏| 92/100 [00:12<00:01,  7.06it/s]2024/07/01 22:12:26 utils.py[line:413] INFO: epoch 93, loss 0.0017, test loss 0.0141, best test loss 0.0098, train acc 0.99948, test auc 0.99945, best auc 0.99990, f1 0.99708, best f1 0.99854, time 0.1 sec\n",
      " 93%|█████████▎| 93/100 [00:13<00:00,  7.14it/s]2024/07/01 22:12:26 utils.py[line:413] INFO: epoch 94, loss 0.0016, test loss 0.0190, best test loss 0.0098, train acc 0.99939, test auc 0.99982, best auc 0.99990, f1 0.99708, best f1 0.99854, time 0.1 sec\n",
      " 94%|█████████▍| 94/100 [00:13<00:00,  7.17it/s]2024/07/01 22:12:26 utils.py[line:413] INFO: epoch 95, loss 0.0022, test loss 0.0162, best test loss 0.0098, train acc 0.99948, test auc 0.99987, best auc 0.99990, f1 0.99708, best f1 0.99854, time 0.1 sec\n",
      " 95%|█████████▌| 95/100 [00:13<00:00,  7.09it/s]2024/07/01 22:12:26 utils.py[line:413] INFO: epoch 96, loss 0.0009, test loss 0.0170, best test loss 0.0098, train acc 0.99969, test auc 0.99988, best auc 0.99990, f1 0.99708, best f1 0.99854, time 0.1 sec\n",
      " 96%|█████████▌| 96/100 [00:13<00:00,  7.16it/s]2024/07/01 22:12:26 utils.py[line:413] INFO: epoch 97, loss 0.0019, test loss 0.0105, best test loss 0.0098, train acc 0.99930, test auc 0.99997, best auc 0.99990, f1 0.99708, best f1 0.99854, time 0.2 sec\n",
      " 97%|█████████▋| 97/100 [00:13<00:00,  6.65it/s]2024/07/01 22:12:26 utils.py[line:413] INFO: epoch 98, loss 0.0025, test loss 0.0118, best test loss 0.0098, train acc 0.99926, test auc 0.99998, best auc 0.99990, f1 0.99708, best f1 0.99854, time 0.1 sec\n",
      " 98%|█████████▊| 98/100 [00:13<00:00,  6.80it/s]2024/07/01 22:12:27 utils.py[line:413] INFO: epoch 99, loss 0.0019, test loss 0.0147, best test loss 0.0098, train acc 0.99934, test auc 0.99974, best auc 0.99990, f1 0.99708, best f1 0.99854, time 0.1 sec\n",
      " 99%|█████████▉| 99/100 [00:14<00:00,  6.86it/s]2024/07/01 22:12:27 utils.py[line:413] INFO: epoch 100, loss 0.0012, test loss 0.0173, best test loss 0.0098, train acc 0.99961, test auc 0.99992, best auc 0.99990, f1 0.99708, best f1 0.99854, time 0.2 sec\n"
     ]
    },
    {
     "name": "stderr",
     "output_type": "stream",
     "text": [
      "100%|██████████| 100/100 [00:14<00:00,  7.04it/s]\n",
      "2024/07/01 22:12:27 model_utils.py[line:261] INFO: roc_auc_score:0.9999754443264772, f1:0.9986320109439124 , false positive rate:0.0, false negative rage:0.00273224043715847\n"
     ]
    },
    {
     "name": "stdout",
     "output_type": "stream",
     "text": [
      "              precision    recall  f1-score   support\n",
      "\n",
      "           0  0.9967177 1.0000000 0.9983562      3644\n",
      "           1  1.0000000 0.9972678 0.9986320      4392\n",
      "\n",
      "    accuracy                      0.9985067      8036\n",
      "   macro avg  0.9983589 0.9986339 0.9984941      8036\n",
      "weighted avg  0.9985116 0.9985067 0.9985069      8036\n",
      "\n"
     ]
    },
    {
     "data": {
      "text/plain": [
       "0.9986320109439124"
      ]
     },
     "execution_count": 38,
     "metadata": {},
     "output_type": "execute_result"
    }
   ],
   "source": [
    "if os.path.exists(f'models/pdf/nn_pdf_density0.pkl'):\n",
    "    x_train_,x_val,y_train_,y_val = train_test_split(x_train_cb,y_train,test_size=0.05,random_state=3)\n",
    "    nn_density = model_utils.train_model('nn','pdf',x_train_,y_train_,x_val,y_val,100,'density0')\n",
    "    model_utils.save_model('nn',nn_density,'models/pdf/',f'nn_pdf_density0')\n",
    "else:\n",
    "    nn_density = model_utils.load_model('nn','pdf','models/pdf/',f'nn_pdf_density0',x_train_cb.shape[1])\n",
    "model_utils.evaluate_model(nn_density,x_test_cb,y_test)\n",
    "#joblib.dump([x_train_,x_val,x_test_cb,y_train_,y_val,y_test], \"pdf_dataset.pkl\")"
   ]
  },
  {
   "cell_type": "markdown",
   "id": "a070bd4f",
   "metadata": {},
   "source": [
    "#### Mimicry on NN-PDF-Density"
   ]
  },
  {
   "cell_type": "code",
   "execution_count": null,
   "id": "4303884d",
   "metadata": {},
   "outputs": [],
   "source": [
    "r=nn_density.predict(x_test_cb).numpy()>0.5\n",
    "print(classification_report(r,y_test,digits=5))\n",
    "paths = []\n",
    "scores = []\n",
    "for i in range(200):\n",
    "    mimic_path, mimic_scores = \\\n",
    "        mimicry(x_test_filename[(y_test==1)&(r==1)][i],x_test[(y_test==0)&(r==0)],nn_density,\\\n",
    "                processor=processor, verbose=True, trials=30)\n",
    "    paths.append(mimic_path)\n",
    "    scores.append(mimic_scores)\n",
    "joblib.dump([paths,scores],'results_nn_density0.pkl')"
   ]
  },
  {
   "cell_type": "code",
   "execution_count": 37,
   "id": "b374191f",
   "metadata": {},
   "outputs": [
    {
     "name": "stdout",
     "output_type": "stream",
     "text": [
      "0.445 0.955 1.0\n"
     ]
    }
   ],
   "source": [
    "[paths,scores] = joblib.load('results_nn_density0.pkl')\n",
    "s1 = 0\n",
    "s10 = 0\n",
    "s30 = 0\n",
    "for i in scores:\n",
    "    if len(i)==1:\n",
    "        s1 += 1\n",
    "    if len(i)<=10:\n",
    "        s10 += 1\n",
    "    if len(i)<30 or i[-1]<0.5:\n",
    "        s30 += 1\n",
    "print(s1/200,s10/200,s30/200)"
   ]
  },
  {
   "cell_type": "code",
   "execution_count": null,
   "id": "ef00f670",
   "metadata": {},
   "outputs": [],
   "source": [
    "#0.445 0.955 1.0"
   ]
  },
  {
   "cell_type": "markdown",
   "id": "80c705ec",
   "metadata": {},
   "source": [
    "## LTNN"
   ]
  },
  {
   "cell_type": "code",
   "execution_count": 14,
   "id": "be8f0631",
   "metadata": {},
   "outputs": [
    {
     "name": "stdout",
     "output_type": "stream",
     "text": [
      "              precision    recall  f1-score   support\n",
      "\n",
      "       False    0.99835   0.99890   0.99863      3642\n",
      "        True    0.99909   0.99863   0.99886      4394\n",
      "\n",
      "    accuracy                        0.99876      8036\n",
      "   macro avg    0.99872   0.99877   0.99874      8036\n",
      "weighted avg    0.99876   0.99876   0.99876      8036\n",
      "\n"
     ]
    }
   ],
   "source": [
    "if not os.path.exists(f'models/pdf/ltnn_pdf.pkl'):\n",
    "    x_train_,x_val,y_train_,y_val = train_test_split(x_train,y_train,test_size=0.05,random_state=3)\n",
    "    nn = model_utils.train_model('ltnn','pdf',x_train_,y_train_,x_val,y_val,100)\n",
    "    model_utils.save_model('nn',nn,'models/pdf/',f'ltnn_pdf')\n",
    "else:\n",
    "    nn = model_utils.load_model('ltnn','pdf','models/pdf/',f'ltnn_pdf',x_train.shape[1])\n",
    "r=nn.predict(x_test).numpy()>0.5\n",
    "print(classification_report(r,y_test,digits=5))"
   ]
  },
  {
   "cell_type": "code",
   "execution_count": null,
   "id": "e3092826",
   "metadata": {},
   "outputs": [],
   "source": [
    "paths = []\n",
    "scores = []\n",
    "for i in range(200):\n",
    "    mimic_path, mimic_scores = \\\n",
    "        mimicry(x_test_filename[(y_test==1)&(r==1)][i],x_test[(y_test==0)&(r==0)],nn,\\\n",
    "                processor=None, verbose=True, trials=30)\n",
    "    paths.append(mimic_path)\n",
    "    scores.append(mimic_scores)\n",
    "joblib.dump([paths,scores],'results_ltnn.pkl')"
   ]
  },
  {
   "cell_type": "code",
   "execution_count": 26,
   "id": "c78527b7",
   "metadata": {},
   "outputs": [
    {
     "name": "stdout",
     "output_type": "stream",
     "text": [
      "0.475 0.91 0.97\n"
     ]
    }
   ],
   "source": [
    "[paths,scores] = joblib.load('results_ltnn.pkl')\n",
    "s1 = 0\n",
    "s10 = 0\n",
    "s30 = 0\n",
    "for i in scores:\n",
    "    if len(i)==1:\n",
    "        s1 += 1\n",
    "    if len(i)<=10:\n",
    "        s10 += 1\n",
    "    if len(i)<30 or i[-1]<0.5:\n",
    "        s30 += 1\n",
    "print(s1/200,s10/200,s30/200)"
   ]
  },
  {
   "cell_type": "markdown",
   "id": "c10032e9",
   "metadata": {},
   "source": [
    "## BinarizedNN"
   ]
  },
  {
   "cell_type": "code",
   "execution_count": 16,
   "id": "f7d2062d",
   "metadata": {},
   "outputs": [],
   "source": [
    "x_train_b = x_train.copy()\n",
    "x_test_b = x_test.copy()"
   ]
  },
  {
   "cell_type": "code",
   "execution_count": 17,
   "id": "0feed0d8",
   "metadata": {},
   "outputs": [],
   "source": [
    "x_train_b[x_train_b!=0] = 1\n",
    "x_test_b[x_test_b!=0] = 1"
   ]
  },
  {
   "cell_type": "code",
   "execution_count": null,
   "id": "423359bc",
   "metadata": {},
   "outputs": [],
   "source": [
    "if not os.path.exists(f'models/pdf/binarized_nn_pdf.pkl'):\n",
    "    x_train_,x_val,y_train_,y_val = train_test_split(x_train_b,y_train,test_size=0.05,random_state=3)\n",
    "    nn = model_utils.train_model('nn','pdf',x_train_,y_train_,x_val,y_val,100)\n",
    "    model_utils.save_model('nn',nn,'models/pdf/',f'binarized_nn_pdf')\n",
    "else:\n",
    "    nn = model_utils.load_model('nn','pdf','models/pdf/',f'binarized_nn_pdf',x_train.shape[1])\n",
    "r=nn.predict(x_test_b).numpy()>0.5\n",
    "print(classification_report(r,y_test,digits=5))"
   ]
  },
  {
   "cell_type": "code",
   "execution_count": null,
   "id": "309d0f32",
   "metadata": {},
   "outputs": [],
   "source": [
    "paths = []\n",
    "scores = []\n",
    "for i in range(200):\n",
    "    mimic_path, mimic_scores = \\\n",
    "        mimicry(x_test_filename[(y_test==1)&(r==1)][i],x_test_b[(y_test==0)&(r==0)],nn,\\\n",
    "                processor='binarized', verbose=True, trials=30)\n",
    "    paths.append(mimic_path)\n",
    "    scores.append(mimic_scores)\n",
    "joblib.dump([paths,scores],'results_binarizednn.pkl')"
   ]
  },
  {
   "cell_type": "code",
   "execution_count": 44,
   "id": "2c62e7cd",
   "metadata": {},
   "outputs": [
    {
     "name": "stdout",
     "output_type": "stream",
     "text": [
      "0.13 0.645 0.915\n"
     ]
    }
   ],
   "source": [
    "[paths,scores] = joblib.load('results_binarizednn.pkl')\n",
    "s1 = 0\n",
    "s10 = 0\n",
    "s30 = 0\n",
    "for i in scores:\n",
    "    if len(i)==1:\n",
    "        s1 += 1\n",
    "    if len(i)<=10:\n",
    "        s10 += 1\n",
    "    if len(i)<30 or i[-1]<0.5:\n",
    "        s30 += 1\n",
    "print(s1/200,s10/200,s30/200)"
   ]
  },
  {
   "cell_type": "markdown",
   "id": "8d95bb53",
   "metadata": {},
   "source": [
    "### Hist"
   ]
  },
  {
   "cell_type": "code",
   "execution_count": null,
   "id": "2803ad70",
   "metadata": {},
   "outputs": [],
   "source": [
    "x_train_hist, y_train, x_test_hist, y_test, processor = data_utils.load_compressed_pdf('pdf',16,'histogram')"
   ]
  },
  {
   "cell_type": "code",
   "execution_count": null,
   "id": "3d8ac20f",
   "metadata": {},
   "outputs": [],
   "source": [
    "if not os.path.exists(f'models/pdf/histogram_nn_pdf.pkl'):\n",
    "    x_train_,x_val,y_train_,y_val = train_test_split(x_train_hist,y_train,test_size=0.05,random_state=3)\n",
    "    nn = model_utils.train_model('nn','pdf',x_train_,y_train_,x_val,y_val,100)\n",
    "    model_utils.save_model('nn',nn,'models/pdf/',f'histogram_nn_pdf')\n",
    "else:\n",
    "    nn = model_utils.load_model('nn','pdf','models/pdf/',f'histogram_nn_pdf',x_train.shape[1])\n",
    "r=nn.predict(x_test_hist).numpy()>0.5\n",
    "print(classification_report(r,y_test,digits=5))"
   ]
  },
  {
   "cell_type": "code",
   "execution_count": null,
   "id": "e419c43f",
   "metadata": {},
   "outputs": [],
   "source": [
    "r=nn.predict(x_test_hist).numpy()>0.5\n",
    "print(classification_report(r,y_test,digits=5))\n",
    "paths = []\n",
    "scores = []\n",
    "for i in range(200):\n",
    "    mimic_path, mimic_scores = \\\n",
    "        mimicry(x_test_filename[(y_test==1)&(r==1)][i],x_test[(y_test==0)&(r==0)],nn,\\\n",
    "                processor=processor, verbose=True, trials=30)\n",
    "    paths.append(mimic_path)\n",
    "    scores.append(mimic_scores)\n",
    "joblib.dump([paths,scores],'results_histogramnn.pkl')"
   ]
  },
  {
   "cell_type": "code",
   "execution_count": 30,
   "id": "2e026c22",
   "metadata": {},
   "outputs": [
    {
     "name": "stdout",
     "output_type": "stream",
     "text": [
      "0.32 0.95 0.99\n"
     ]
    }
   ],
   "source": [
    "[paths,scores] = joblib.load('results_histogramnn.pkl')\n",
    "s1 = 0\n",
    "s10 = 0\n",
    "s30 = 0\n",
    "for i in scores:\n",
    "    if len(i)==1:\n",
    "        s1 += 1\n",
    "    if len(i)<=10:\n",
    "        s10 += 1\n",
    "    if len(i)<30 or i[-1]<0.5:\n",
    "        s30 += 1\n",
    "print(s1/200,s10/200,s30/200)"
   ]
  },
  {
   "cell_type": "markdown",
   "id": "a75f2686",
   "metadata": {},
   "source": [
    "### SC"
   ]
  },
  {
   "cell_type": "code",
   "execution_count": null,
   "id": "532c51e8",
   "metadata": {},
   "outputs": [],
   "source": [
    "x_train_sc, y_train, x_test_sc, y_test, processor = data_utils.load_compressed_pdf('pdf',16,False)"
   ]
  },
  {
   "cell_type": "code",
   "execution_count": null,
   "id": "2dedb0fb",
   "metadata": {},
   "outputs": [],
   "source": [
    "if not os.path.exists(f'models/pdf/sc_nn_pdf.pkl'):\n",
    "    x_train_,x_val,y_train_,y_val = train_test_split(x_train_sc,y_train,test_size=0.05,random_state=3)\n",
    "    nn = model_utils.train_model('nn','pdf',x_train_,y_train_,x_val,y_val,100)\n",
    "    model_utils.save_model('nn',nn,'models/pdf/',f'sc_nn_pdf')\n",
    "else:\n",
    "    nn = model_utils.load_model('nn','pdf','models/pdf/',f'sc_nn_pdf',x_train.shape[1])\n",
    "r=nn.predict(x_test_sc).numpy()>0.5\n",
    "print(classification_report(r,y_test,digits=5))"
   ]
  },
  {
   "cell_type": "code",
   "execution_count": null,
   "id": "260680c9",
   "metadata": {},
   "outputs": [],
   "source": [
    "r=nn.predict(x_test_sc).numpy()>0.5\n",
    "print(classification_report(r,y_test,digits=5))\n",
    "paths = []\n",
    "scores = []\n",
    "for i in range(200):\n",
    "    mimic_path, mimic_scores = \\\n",
    "        mimicry(x_test_filename[(y_test==1)&(r==1)][i],x_test[(y_test==0)&(r==0)],nn,\\\n",
    "                processor=processor, verbose=True, trials=30)\n",
    "    paths.append(mimic_path)\n",
    "    scores.append(mimic_scores)\n",
    "joblib.dump([paths,scores],'results_scnn.pkl')"
   ]
  },
  {
   "cell_type": "code",
   "execution_count": null,
   "id": "f279cc98",
   "metadata": {},
   "outputs": [],
   "source": [
    "[paths,scores] = joblib.load('results_scnn.pkl')\n",
    "s1 = 0\n",
    "s10 = 0\n",
    "s30 = 0\n",
    "for i in scores:\n",
    "    if len(i)==1:\n",
    "        s1 += 1\n",
    "    if len(i)<=10:\n",
    "        s10 += 1\n",
    "    if len(i)<30 or i[-1]<0.5:\n",
    "        s30 += 1\n",
    "print(s1/200,s10/200,s30/200)"
   ]
  },
  {
   "cell_type": "markdown",
   "id": "3f33f633",
   "metadata": {},
   "source": [
    "## PAD on PDF"
   ]
  },
  {
   "cell_type": "code",
   "execution_count": 55,
   "id": "72966285",
   "metadata": {},
   "outputs": [],
   "source": [
    "from pad.core.defense import AMalwareDetectionPAD\n",
    "from pad.core.defense import AdvMalwareDetectorICNN\n",
    "from pad.core.defense import MalwareDetectionDNN"
   ]
  },
  {
   "cell_type": "code",
   "execution_count": 90,
   "id": "b429a013",
   "metadata": {},
   "outputs": [
    {
     "name": "stderr",
     "output_type": "stream",
     "text": [
      "2024-07-04 13:20:33,592 md_dnn.py[line:85] WARNING: Unknown hyper-parameters {'proc_number': 10}\n",
      "2024/07/04 13:20:33 md_dnn.py[line:85] WARNING: Unknown hyper-parameters {'proc_number': 10}\n",
      "2024-07-04 13:20:33,613 md_dnn.py[line:62] INFO: ========================================dnn model architecture===============================\n",
      "2024/07/04 13:20:33 md_dnn.py[line:62] INFO: ========================================dnn model architecture===============================\n",
      "2024-07-04 13:20:33,615 md_dnn.py[line:63] INFO: MalwareDetectionDNN(\n",
      "  (nn_model_layer_0): Linear(in_features=135, out_features=1024, bias=True)\n",
      "  (nn_model_layer_1): Linear(in_features=1024, out_features=512, bias=True)\n",
      "  (nn_model_layer_2): Linear(in_features=512, out_features=256, bias=True)\n",
      "  (nn_model_layer_3): Linear(in_features=256, out_features=2, bias=True)\n",
      ")\n",
      "2024/07/04 13:20:33 md_dnn.py[line:63] INFO: MalwareDetectionDNN(\n",
      "  (nn_model_layer_0): Linear(in_features=135, out_features=1024, bias=True)\n",
      "  (nn_model_layer_1): Linear(in_features=1024, out_features=512, bias=True)\n",
      "  (nn_model_layer_2): Linear(in_features=512, out_features=256, bias=True)\n",
      "  (nn_model_layer_3): Linear(in_features=256, out_features=2, bias=True)\n",
      ")\n",
      "2024-07-04 13:20:33,618 md_dnn.py[line:64] INFO: ===============================================end==========================================\n",
      "2024/07/04 13:20:33 md_dnn.py[line:64] INFO: ===============================================end==========================================\n",
      "2024-07-04 13:20:33,621 amd_icnn.py[line:108] WARNING: Unknown hyper-parameters {'smooth': False, 'proc_number': 10}\n",
      "2024/07/04 13:20:33 amd_icnn.py[line:108] WARNING: Unknown hyper-parameters {'smooth': False, 'proc_number': 10}\n",
      "2024-07-04 13:20:33,640 amd_icnn.py[line:87] INFO: ========================================icnn model architecture==============================\n",
      "2024/07/04 13:20:33 amd_icnn.py[line:87] INFO: ========================================icnn model architecture==============================\n",
      "2024-07-04 13:20:33,642 amd_icnn.py[line:88] INFO: AdvMalwareDetectorICNN(\n",
      "  (md_nn_model): MalwareDetectionDNN(\n",
      "    (nn_model_layer_0): Linear(in_features=135, out_features=1024, bias=True)\n",
      "    (nn_model_layer_1): Linear(in_features=1024, out_features=512, bias=True)\n",
      "    (nn_model_layer_2): Linear(in_features=512, out_features=256, bias=True)\n",
      "    (nn_model_layer_3): Linear(in_features=256, out_features=2, bias=True)\n",
      "  )\n",
      "  (non_neg_layer_0): Linear(in_features=1024, out_features=512, bias=False)\n",
      "  (non_neg_layer_1): Linear(in_features=512, out_features=256, bias=False)\n",
      "  (non_neg_layer_2): Linear(in_features=256, out_features=1, bias=False)\n",
      "  (layer_0): Linear(in_features=135, out_features=1024, bias=True)\n",
      "  (layer_1): Linear(in_features=135, out_features=512, bias=True)\n",
      "  (layer_2): Linear(in_features=135, out_features=256, bias=True)\n",
      "  (layer_3): Linear(in_features=135, out_features=1, bias=True)\n",
      ")\n",
      "2024/07/04 13:20:33 amd_icnn.py[line:88] INFO: AdvMalwareDetectorICNN(\n",
      "  (md_nn_model): MalwareDetectionDNN(\n",
      "    (nn_model_layer_0): Linear(in_features=135, out_features=1024, bias=True)\n",
      "    (nn_model_layer_1): Linear(in_features=1024, out_features=512, bias=True)\n",
      "    (nn_model_layer_2): Linear(in_features=512, out_features=256, bias=True)\n",
      "    (nn_model_layer_3): Linear(in_features=256, out_features=2, bias=True)\n",
      "  )\n",
      "  (non_neg_layer_0): Linear(in_features=1024, out_features=512, bias=False)\n",
      "  (non_neg_layer_1): Linear(in_features=512, out_features=256, bias=False)\n",
      "  (non_neg_layer_2): Linear(in_features=256, out_features=1, bias=False)\n",
      "  (layer_0): Linear(in_features=135, out_features=1024, bias=True)\n",
      "  (layer_1): Linear(in_features=135, out_features=512, bias=True)\n",
      "  (layer_2): Linear(in_features=135, out_features=256, bias=True)\n",
      "  (layer_3): Linear(in_features=135, out_features=1, bias=True)\n",
      ")\n",
      "2024-07-04 13:20:33,645 amd_icnn.py[line:89] INFO: ===============================================end==========================================\n",
      "2024/07/04 13:20:33 amd_icnn.py[line:89] INFO: ===============================================end==========================================\n"
     ]
    },
    {
     "name": "stdout",
     "output_type": "stream",
     "text": [
      "/home/ian/workspace1/Density-Boosts-Robustness/pad4amd/save/drebin/amd_pad_ma_20240701-230325/model.pth\n",
      "Load 20240701-230325 pad\n"
     ]
    }
   ],
   "source": [
    "#name = '20240701-230056'#'scnn+pad\n",
    "name = '20240701-230325'#'scbnn-db+pad\n",
    "args = {'dense_hidden_units':[1024,512,256],\n",
    "        'dropout':0.6,\n",
    "        'alpha_':0.2,\n",
    "        'smooth':False,\n",
    "        'proc_number':10,\n",
    "       }\n",
    "model = MalwareDetectionDNN(135,\n",
    "                            2,\n",
    "                            device='cpu',\n",
    "                            name=name,\n",
    "                            **args\n",
    "                            )\n",
    "model = AdvMalwareDetectorICNN(model,\n",
    "                            input_size=135,\n",
    "                            n_classes=2,\n",
    "                            device='cpu',\n",
    "                            name=name,\n",
    "                            **args\n",
    "                            )\n",
    "max_adv_training_model = AMalwareDetectionPAD(model, None, None)\n",
    "max_adv_training_model.load()\n",
    "print(f'Load {name} pad')"
   ]
  },
  {
   "cell_type": "code",
   "execution_count": null,
   "id": "1bb571ef",
   "metadata": {},
   "outputs": [],
   "source": [
    "#x_train_bundle,x_val_bundle,x_test_bundle,y_train_,y_val,y_test = joblib.load(\"pdf_dataset.pkl\")"
   ]
  },
  {
   "cell_type": "code",
   "execution_count": 58,
   "id": "f26783cf",
   "metadata": {},
   "outputs": [],
   "source": [
    "y_cent, y_prob, y_true = model.inference(utils.data_iter(256,x_test_bundle, y_test, False))\n",
    "r = y_cent.argmax(axis=1)\n",
    "print(classification_report(y_test,r,digits=5))\n",
    "indicator = model.indicator(y_prob)\n",
    "print(classification_report(y_test[indicator],r[indicator],digits=5))"
   ]
  },
  {
   "cell_type": "markdown",
   "id": "7a0d30e6",
   "metadata": {},
   "source": [
    "#### Mimicry on PDF-Density-PAD"
   ]
  },
  {
   "cell_type": "code",
   "execution_count": null,
   "id": "f9538421",
   "metadata": {},
   "outputs": [],
   "source": [
    "y_cent, y_prob, y_true = model.inference(utils.data_iter(256,x_test_bundle, y_test, False))\n",
    "r = y_cent.argmax(axis=1).numpy()\n",
    "print(classification_report(y_test,r,digits=5))\n",
    "paths = []\n",
    "scores = []\n",
    "for i in range(200):\n",
    "    mimic_path, mimic_scores = \\\n",
    "        mimicry(x_test_filename[(y_test==1)&(r==1)][i],x_test[(y_test==0)&(r==0)],model,\\\n",
    "                processor=processor, verbose=True, trials=30)\n",
    "    paths.append(mimic_path)\n",
    "    scores.append(mimic_scores)\n",
    "joblib.dump([paths,scores],'results_nn_pdf_dbpad.pkl')"
   ]
  },
  {
   "cell_type": "code",
   "execution_count": 92,
   "id": "3d48f556",
   "metadata": {},
   "outputs": [],
   "source": [
    "[paths,scores] = joblib.load('results_nn_pdf_pad.pkl')\n",
    "s1 = 0\n",
    "s10 = 0\n",
    "s30 = 0\n",
    "for i in scores:\n",
    "    if len(i)==1:\n",
    "        s1 += 1\n",
    "    if len(i)<=10:\n",
    "        s10 += 1\n",
    "    if len(i)<30 or i[-1]<0.5:\n",
    "        s30 += 1\n",
    "print(s1/200,s10/200,s30/200)"
   ]
  },
  {
   "cell_type": "markdown",
   "id": "3dcda28a",
   "metadata": {},
   "source": [
    "### evaluation 2"
   ]
  },
  {
   "cell_type": "code",
   "execution_count": null,
   "id": "2857a2d4",
   "metadata": {},
   "outputs": [],
   "source": [
    "y_cent, y_prob, y_true = model.inference(utils.data_iter(256,x_test_bundle, y_test, False))\n",
    "r = y_cent.argmax(axis=1)\n",
    "print(classification_report(y_test,r,digits=5))\n",
    "indicator = model.indicator(y_prob)\n",
    "print(classification_report(y_test[indicator],r[indicator],digits=5))"
   ]
  },
  {
   "cell_type": "code",
   "execution_count": null,
   "id": "04e2ba5f",
   "metadata": {},
   "outputs": [],
   "source": [
    "y_cent, y_prob, y_true = model.inference(utils.data_iter(256,x_test_bundle, y_test, False))\n",
    "r = y_cent.argmax(axis=1).numpy()\n",
    "print(classification_report(y_test,r,digits=5))\n",
    "paths = []\n",
    "scores = []\n",
    "for i in range(200):\n",
    "    mimic_path, mimic_scores = \\\n",
    "        mimicry(x_test_filename[(y_test==1)&(r==1)][i],x_test[(y_test==0)&(r==0)],model,\\\n",
    "                processor=processor, verbose=True, trials=30)\n",
    "    paths.append(mimic_path)\n",
    "    scores.append(mimic_scores)\n",
    "joblib.dump([paths,scores],'results_nn_pdf_pad.pkl')"
   ]
  },
  {
   "cell_type": "code",
   "execution_count": null,
   "id": "d8a5cb4c",
   "metadata": {},
   "outputs": [],
   "source": [
    "print(classification_report(r,y_test,digits=5))"
   ]
  }
 ],
 "metadata": {
  "kernelspec": {
   "display_name": "Python 3",
   "language": "python",
   "name": "python3"
  },
  "language_info": {
   "codemirror_mode": {
    "name": "ipython",
    "version": 3
   },
   "file_extension": ".py",
   "mimetype": "text/x-python",
   "name": "python",
   "nbconvert_exporter": "python",
   "pygments_lexer": "ipython3",
   "version": "3.9.2"
  }
 },
 "nbformat": 4,
 "nbformat_minor": 5
}
